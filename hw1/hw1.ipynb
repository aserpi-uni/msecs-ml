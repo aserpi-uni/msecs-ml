{
 "nbformat": 4,
 "nbformat_minor": 0,
 "metadata": {
  "colab": {
   "name": "ml-hw2.ipynb",
   "version": "0.3.2",
   "provenance": [],
   "collapsed_sections": [],
   "toc_visible": true
  },
  "kernelspec": {
   "name": "python3",
   "display_name": "Python 3"
  },
  "accelerator": "GPU",
  "pycharm": {
   "stem_cell": {
    "cell_type": "raw",
    "source": [],
    "metadata": {
     "collapsed": false
    }
   }
  }
 },
 "cells": [
  {
   "metadata": {
    "id": "gcLhgPg-2Wjf",
    "colab_type": "text"
   },
   "cell_type": "markdown",
   "source": [
    "# Initialize\n",
    "\n",
    "## Settings\n",
    "\n",
    "Choose the algorithms between `naive_bayes`, `random_forest`, `svc` and/or `linear_svc`, separating the values with a space. Leave empty for running all algorithms."
   ]
  },
  {
   "cell_type": "code",
   "execution_count": null,
   "outputs": [],
   "source": [
    "#@title Module settings\n",
    "classifier = \"opt\" #@param [\"compiler\", \"opt\"]\n",
    "algorithms = \"random_forest\"  #@param {type:\"string\"}\n",
    "truncate = 10 #@param {type:\"slider\", min:0, max:30, step:1}"
   ],
   "metadata": {
    "collapsed": false,
    "pycharm": {
     "name": "#%%\n"
    }
   }
  },
  {
   "cell_type": "code",
   "execution_count": null,
   "outputs": [],
   "source": [
    "#@title Filesystem settings\n",
    "dataset_directory = \"msecs-1-ml/hw1/data\" #@param {type:\"string\"}\n",
    "results_directory = \"msecs-1-ml/hw1/results\" #@param {type:\"string\"}"
   ],
   "metadata": {
    "collapsed": false,
    "pycharm": {
     "name": "#%%\n"
    }
   }
  },
  {
   "metadata": {
    "id": "3fpUMoY9H-j1",
    "colab_type": "text"
   },
   "cell_type": "markdown",
   "source": [
    "\n",
    "## Code\n",
    "\n",
    "Download code and set up working directory."
   ]
  },
  {
   "metadata": {
    "id": "x3qBc199Gk1q",
    "colab_type": "code",
    "colab": {}
   },
   "cell_type": "code",
   "source": [
    "!git clone https://github.com/aserpi/msecs-1-ml.git\n",
    "%cd msecs-1-ml\n",
    "!git checkout tags/2019-hw1\n",
    "\n",
    "from hw1.__main__ import main"
   ],
   "execution_count": 0,
   "outputs": []
  },
  {
   "cell_type": "markdown",
   "source": [
    "\n",
    "## Data\n",
    "\n",
    "Mount Google Drive."
   ],
   "metadata": {
    "collapsed": false,
    "pycharm": {
     "name": "#%% md\n"
    }
   }
  },
  {
   "metadata": {
    "id": "OyZY33RCIHAN",
    "colab_type": "code",
    "colab": {}
   },
   "cell_type": "code",
   "source": [
    "from google.colab import drive\n",
    "\n",
    "drive.mount(\"/content/drive\")\n",
    "base_directory = \"/content/drive/My Drive/\""
   ],
   "execution_count": 0,
   "outputs": []
  },
  {
   "cell_type": "markdown",
   "source": [
    "Remove sample data."
   ],
   "metadata": {
    "collapsed": false
   }
  },
  {
   "cell_type": "code",
   "execution_count": null,
   "outputs": [],
   "source": [
    "!rm -rf \"/content/sample_data\""
   ],
   "metadata": {
    "collapsed": false,
    "pycharm": {
     "name": "#%%\n"
    }
   }
  },
  {
   "cell_type": "markdown",
   "source": [
    "\n",
    "\n",
    "# Work\n",
    "\n",
    "## Statistics\n",
    "\n",
    "Matplotlib 3.1.1 [breaks](https://github.com/matplotlib/matplotlib/issues/14675) seaborn's heatmaps."
   ],
   "metadata": {
    "collapsed": false
   }
  },
  {
   "metadata": {
    "id": "255nAk0bYIRJ",
    "colab_type": "code",
    "colab": {}
   },
   "cell_type": "code",
   "source": [
    "!pip install seaborn --upgrade\n",
    "!pip install -Iv matplotlib==3.1.0"
   ],
   "execution_count": 0,
   "outputs": []
  },
  {
   "metadata": {
    "id": "QKJmkNJH_-NI",
    "colab_type": "code",
    "colab": {}
   },
   "cell_type": "code",
   "source": [
    "main(\"evaluate\",\n",
    "     classifier,\n",
    "     f\"{base_directory}/{dataset_directory}\",\n",
    "     f\"{base_directory}/{results_directory}\",\n",
    "     algs=algorithms,\n",
    "     cache=True,\n",
    "     truncate=truncate)"
   ],
   "execution_count": 0,
   "outputs": []
  },
  {
   "metadata": {
    "id": "JWKaW3no_itL",
    "colab_type": "text"
   },
   "cell_type": "markdown",
   "source": [
    "## Learn and predict"
   ]
  },
  {
   "cell_type": "code",
   "execution_count": null,
   "outputs": [],
   "source": [
    "main(\"learn\",\n",
    "     classifier,\n",
    "     f\"{base_directory}/{dataset_directory}\",\n",
    "     f\"{base_directory}/{dataset_directory}/classifiers\"\n",
    "     algs=algorithms,\n",
    "     cache=True,\n",
    "     truncate=truncate)"
   ],
   "metadata": {
    "collapsed": false,
    "pycharm": {
     "name": "#%%\n"
    }
   }
  },
  {
   "cell_type": "code",
   "execution_count": null,
   "outputs": [],
   "source": [
    "main(\"predict\",\n",
    "     classifier, \n",
    "     f\"{base_directory}/{dataset_directory}\",\n",
    "     f\"{base_directory}/{results_directory}\",\n",
    "     algs=algorithms,\n",
    "     truncate=truncate)"
   ],
   "metadata": {
    "collapsed": false,
    "pycharm": {
     "name": "#%%\n"
    }
   }
  },
  {
   "cell_type": "markdown",
   "source": [
    "\n",
    "# Finalise\n",
    "\n",
    "## Consolidate results"
   ],
   "metadata": {
    "collapsed": false
   }
  },
  {
   "cell_type": "code",
   "execution_count": null,
   "outputs": [],
   "source": [
    "main(\"consolidate\",\n",
    "     classifier,\n",
    "     f\"{base_directory}/{results_directory}\",\n",
    "     f\"{base_directory}/{results_directory}\",\n",
    "     algs=algorithms)"
   ],
   "metadata": {
    "collapsed": false,
    "pycharm": {
     "name": "#%%\n"
    }
   }
  },
  {
   "cell_type": "markdown",
   "source": [
    "## Unmount Google Drive"
   ],
   "metadata": {
    "collapsed": false,
    "pycharm": {
     "name": "#%% md\n"
    }
   }
  },
  {
   "cell_type": "code",
   "execution_count": null,
   "outputs": [],
   "source": [
    "!fusermount -u \"/content/drive\""
   ],
   "metadata": {
    "collapsed": false,
    "pycharm": {
     "name": "#%%\n"
    }
   }
  }
 ]
}