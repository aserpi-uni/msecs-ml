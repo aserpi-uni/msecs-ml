{
 "nbformat": 4,
 "nbformat_minor": 0,
 "metadata": {
  "colab": {
   "name": "ml-hw2.ipynb",
   "version": "0.3.2",
   "provenance": [],
   "collapsed_sections": [],
   "toc_visible": true
  },
  "kernelspec": {
   "name": "python3",
   "display_name": "Python 3"
  },
  "accelerator": "GPU",
  "pycharm": {
   "stem_cell": {
    "cell_type": "raw",
    "source": [],
    "metadata": {
     "collapsed": false
    }
   }
  }
 },
 "cells": [
  {
   "metadata": {
    "id": "gcLhgPg-2Wjf",
    "colab_type": "text"
   },
   "cell_type": "markdown",
   "source": [
    "# Initialize\n",
    "\n",
    "## Input\n",
    "\n",
    "Choose the algorithms between `bernoulli`, `random_forest`, `svc` and/or `linear_svc`, separating the values with a space. Leave empty for running all algorithms."
   ]
  },
  {
   "cell_type": "code",
   "execution_count": null,
   "outputs": [],
   "source": [
    "#@title Variables\n",
    "algorithms = \"\"  #@param {type:\"string\"}\n",
    "\n",
    "dataset_directory = \"msecs-1-ml/hw1/data\" #@param {type:\"string\"}\n",
    "results_directory = \"msecs-1-ml/hw1/results\" #@param {type:\"string\"}"
   ],
   "metadata": {
    "collapsed": false,
    "pycharm": {
     "name": "#%%\n"
    }
   }
  },
  {
   "metadata": {
    "id": "3fpUMoY9H-j1",
    "colab_type": "text"
   },
   "cell_type": "markdown",
   "source": [
    "\n",
    "## Code\n",
    "\n",
    "Download code and set up working directory."
   ]
  },
  {
   "metadata": {
    "id": "x3qBc199Gk1q",
    "colab_type": "code",
    "colab": {}
   },
   "cell_type": "code",
   "source": [
    "!git clone https://github.com/aserpi/msecs-1-ml.git\n",
    "%cd msecs-1-ml\n",
    "!git checkout update-hw1"
   ],
   "execution_count": 0,
   "outputs": []
  },
  {
   "cell_type": "markdown",
   "source": [
    "\n",
    "## Data\n",
    "\n",
    "Mount Google Drive and compute full paths."
   ],
   "metadata": {
    "collapsed": false,
    "pycharm": {
     "name": "#%% md\n"
    }
   }
  },
  {
   "metadata": {
    "id": "OyZY33RCIHAN",
    "colab_type": "code",
    "colab": {}
   },
   "cell_type": "code",
   "source": [
    "from google.colab import drive\n",
    "drive.mount(\"/content/drive\")\n",
    "\n",
    "work_dir = f\"/content/drive/My Drive/{dataset_directory}\"\n",
    "results_dir = f\"/content/drive/My Drive/{results_directory}\""
   ],
   "execution_count": 0,
   "outputs": []
  },
  {
   "cell_type": "markdown",
   "source": [
    "Remove sample data."
   ],
   "metadata": {
    "collapsed": false
   }
  },
  {
   "cell_type": "code",
   "execution_count": null,
   "outputs": [],
   "source": [
    "!rm -rf \"/content/sample_data\""
   ],
   "metadata": {
    "collapsed": false,
    "pycharm": {
     "name": "#%%\n"
    }
   }
  },
  {
   "cell_type": "markdown",
   "source": [
    "\n",
    "\n",
    "# Work\n",
    "\n",
    "## Learn"
   ],
   "metadata": {
    "collapsed": false
   }
  },
  {
   "metadata": {
    "id": "xzoW2fb4CRfu",
    "colab_type": "code",
    "colab": {}
   },
   "cell_type": "code",
   "source": [
    "!python -m hw1 learn \"$work_dir\" \"$work_dir/classifiers\" --algorithms $algorithms"
   ],
   "execution_count": 0,
   "outputs": []
  },
  {
   "metadata": {
    "id": "EoMS_MkENlSQ",
    "colab_type": "text"
   },
   "cell_type": "markdown",
   "source": [
    "\n",
    "## Statistics\n",
    "\n",
    "Matplotlib 3.1.1 [breaks](https://github.com/matplotlib/matplotlib/issues/14675) seaborn's heatmaps."
   ]
  },
  {
   "metadata": {
    "id": "255nAk0bYIRJ",
    "colab_type": "code",
    "colab": {}
   },
   "cell_type": "code",
   "source": [
    "!pip install seaborn --upgrade\n",
    "!pip install -Iv matplotlib==3.1.0"
   ],
   "execution_count": 0,
   "outputs": []
  },
  {
   "metadata": {
    "id": "QKJmkNJH_-NI",
    "colab_type": "code",
    "colab": {}
   },
   "cell_type": "code",
   "source": [
    "statistics_dir = f\"{results_dir}/statistics\"\n",
    "\n",
    "!mkdir \"$statistics_dir\"\n",
    "!python -m hw1 evaluate \"$work_dir\" \"$statistics_dir\" --algorithms $algorithms"
   ],
   "execution_count": 0,
   "outputs": []
  },
  {
   "metadata": {
    "id": "JWKaW3no_itL",
    "colab_type": "text"
   },
   "cell_type": "markdown",
   "source": [
    "\n",
    "\n",
    "# Finalise\n",
    "\n",
    "## Unmount Google Drive"
   ]
  },
  {
   "metadata": {
    "id": "SzvBbxs7_hp4",
    "colab_type": "code",
    "colab": {},
    "pycharm": {
     "name": "#%%\n"
    }
   },
   "cell_type": "code",
   "source": [
    "!fusermount -u \"/content/drive\""
   ],
   "execution_count": 0,
   "outputs": []
  }
 ]
}