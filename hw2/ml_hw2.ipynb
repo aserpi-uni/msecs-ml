{
 "nbformat": 4,
 "nbformat_minor": 0,
 "metadata": {
  "colab": {
   "name": "ml-hw2.ipynb",
   "version": "0.3.2",
   "provenance": [],
   "collapsed_sections": [],
   "toc_visible": true
  },
  "kernelspec": {
   "name": "python3",
   "language": "python",
   "display_name": "Python 3"
  },
  "accelerator": "GPU",
  "pycharm": {
   "stem_cell": {
    "cell_type": "raw",
    "source": [],
    "metadata": {
     "collapsed": false
    }
   }
  }
 },
 "cells": [
  {
   "metadata": {
    "id": "gcLhgPg-2Wjf",
    "colab_type": "text"
   },
   "cell_type": "markdown",
   "source": [
    "# Initialize"
   ]
  },
  {
   "metadata": {
    "id": "RpFqo7lUHzsK",
    "colab_type": "text"
   },
   "cell_type": "markdown",
   "source": [
    "## Input"
   ]
  },
  {
   "metadata": {
    "id": "YnSLaPAi-jVv",
    "colab_type": "code",
    "colab": {},
    "pycharm": {
     "is_executing": false
    }
   },
   "cell_type": "code",
   "source": [
    "batch_size = 20\n",
    "epochs = 60\n",
    "\n",
    "# \"inception\", \"resnet50\" or \"vgg16\"\n",
    "neural_network = \"inception\"\n",
    "\n",
    "# Models to save: \"\", \"all\", \"best\" or \"last\"\n",
    "persistence = \"last\"\n",
    "\n",
    "# Work directory in Google Drive\n",
    "work_directory = \"eics-1-ml-hw2\""
   ],
   "execution_count": 1,
   "outputs": []
  },
  {
   "metadata": {
    "id": "3fpUMoY9H-j1",
    "colab_type": "text"
   },
   "cell_type": "markdown",
   "source": [
    "## Import code"
   ]
  },
  {
   "metadata": {
    "id": "x3qBc199Gk1q",
    "colab_type": "code",
    "colab": {}
   },
   "cell_type": "code",
   "source": [
    "# Download code\n",
    "!git clone https://github.com/aserpi/eics-1-ml.git\n",
    "%cd eics-1-ml\n",
    "\n",
    "# Remove sample data\n",
    "!rm -rf \"/content/sample_data\""
   ],
   "execution_count": 0,
   "outputs": []
  },
  {
   "metadata": {
    "id": "itkXhGyrICIB",
    "colab_type": "text"
   },
   "cell_type": "markdown",
   "source": [
    "## Import data"
   ]
  },
  {
   "metadata": {
    "id": "OyZY33RCIHAN",
    "colab_type": "code",
    "colab": {}
   },
   "cell_type": "code",
   "source": [
    "from google.colab import drive\n",
    "drive.mount(\"/content/drive\")\n",
    "\n",
    "work_dir = f\"/content/drive/My Drive/{work_directory}\""
   ],
   "execution_count": 0,
   "outputs": []
  },
  {
   "metadata": {
    "id": "okm8x1Md4qkc",
    "colab_type": "code",
    "colab": {}
   },
   "cell_type": "code",
   "source": [
    "# Initialize dataset\n",
    "!python -m hw2 $neural_network \"$work_dir\" 0"
   ],
   "execution_count": 0,
   "outputs": []
  },
  {
   "metadata": {
    "id": "-rI8BEku2Sr4",
    "colab_type": "text"
   },
   "cell_type": "markdown",
   "source": [
    "# Learn"
   ]
  },
  {
   "metadata": {
    "id": "xzoW2fb4CRfu",
    "colab_type": "code",
    "colab": {}
   },
   "cell_type": "code",
   "source": [
    "!python -m hw2 $neural_network $epochs \"$work_dir\" -b $batch_size -p $persistence"
   ],
   "execution_count": 0,
   "outputs": []
  },
  {
   "metadata": {
    "id": "EoMS_MkENlSQ",
    "colab_type": "text"
   },
   "cell_type": "markdown",
   "source": [
    "# Statistics"
   ]
  },
  {
   "metadata": {
    "id": "255nAk0bYIRJ",
    "colab_type": "code",
    "colab": {}
   },
   "cell_type": "code",
   "source": [
    "!pip install seaborn --upgrade\n",
    "!pip install matplotlib --upgrade"
   ],
   "execution_count": 0,
   "outputs": []
  },
  {
   "metadata": {
    "id": "QKJmkNJH_-NI",
    "colab_type": "code",
    "colab": {}
   },
   "cell_type": "code",
   "source": [
    "!python -m hw2 $neural_network 0 \"$work_dir\" -s"
   ],
   "execution_count": 0,
   "outputs": []
  },
  {
   "metadata": {
    "id": "JWKaW3no_itL",
    "colab_type": "text"
   },
   "cell_type": "markdown",
   "source": [
    "# Unmount Google Drive"
   ]
  },
  {
   "metadata": {
    "id": "SzvBbxs7_hp4",
    "colab_type": "code",
    "colab": {}
   },
   "cell_type": "code",
   "source": [
    "!fusermount -u \"/content/drive\""
   ],
   "execution_count": 0,
   "outputs": []
  }
 ]
}