{
 "nbformat": 4,
 "nbformat_minor": 0,
 "metadata": {
  "colab": {
   "name": "ml-hw2.ipynb",
   "version": "0.3.2",
   "provenance": [],
   "collapsed_sections": [],
   "toc_visible": true
  },
  "kernelspec": {
   "name": "python3",
   "language": "python",
   "display_name": "Python 3"
  },
  "accelerator": "GPU",
  "pycharm": {
   "stem_cell": {
    "cell_type": "raw",
    "source": [],
    "metadata": {
     "collapsed": false
    }
   }
  }
 },
 "cells": [
  {
   "metadata": {
    "id": "gcLhgPg-2Wjf",
    "colab_type": "text"
   },
   "cell_type": "markdown",
   "source": [
    "# Initialize\n",
    "\n",
    "## Input"
   ]
  },
  {
   "metadata": {
    "id": "YnSLaPAi-jVv",
    "colab_type": "code",
    "colab": {},
    "pycharm": {
     "is_executing": false
    }
   },
   "cell_type": "code",
   "source": [
    "neural_network = \"inception\"  #@param [\"earenet\", \"inception\", \"resnet50\", \"vgg16\"]\n",
    "epochs = 25  #@param {type:\"integer\"}\n",
    "batch_size = 0  #@param {type:\"integer\"}\n",
    "save_best_model = True  #@param {type: \"boolean\"}\n",
    "save_models = \"last\"  #@param [\"none\", \"all\", \"last\"]\n",
    "\n",
    "if save_models == \"none\":\n",
    "    save_models = \"\"\n",
    "if save_best_model:\n",
    "    save_models += \" best\"\n",
    "    "
   ],
   "execution_count": 1,
   "outputs": []
  },
  {
   "cell_type": "code",
   "execution_count": null,
   "outputs": [],
   "source": [
    "train_dataset_directory = \"MWI-public/MWI-Dataset-1.1.1_400\"  #@param {type:\"string\"}\n",
    "validation_dataset_directory = \"msecs-1-ml/hw2/test-images\"  #@param {type:\"string\"}\n",
    "output_directory = \"msecs-1-ml/hw2\"  #@param {type:\"string\"}\n",
    "blind_test_dataset_directory = \"msecs-1-ml/hw2/blind-test-images\"\n",
    "\n",
    "from pathlib import Path\n",
    "drive_path = Path(f\"/content/drive/My Drive\")\n",
    "train_dir = drive_path / train_dataset_directory\n",
    "val_dir = drive_path / validation_dataset_directory\n",
    "out_dir = drive_path / output_directory\n",
    "blind_test_dir = drive_path / blind_test_dataset_directory"
   ],
   "metadata": {
    "collapsed": false,
    "pycharm": {
     "name": "#%%\n"
    }
   }
  },
  {
   "metadata": {
    "id": "3fpUMoY9H-j1",
    "colab_type": "text"
   },
   "cell_type": "markdown",
   "source": [
    "## Code\n",
    "\n",
    "Clone repository and switch branch"
   ]
  },
  {
   "metadata": {
    "id": "x3qBc199Gk1q",
    "colab_type": "code",
    "colab": {},
    "pycharm": {
     "name": "#%%\n"
    }
   },
   "cell_type": "code",
   "source": [
    "!git clone https://github.com/aserpi/msecs-1-ml.git\n",
    "%cd msecs-1-ml\n",
    "!git checkout tags/2019-hw2"
   ],
   "execution_count": 0,
   "outputs": []
  },
  {
   "cell_type": "markdown",
   "source": [
    "Load TensorFlow 1.x"
   ],
   "metadata": {
    "collapsed": false,
    "pycharm": {
     "name": "#%% md\n"
    }
   }
  },
  {
   "cell_type": "code",
   "execution_count": null,
   "outputs": [],
   "source": [
    "%tensorflow_version 1.x"
   ],
   "metadata": {
    "collapsed": false,
    "pycharm": {
     "name": "#%%\n"
    }
   }
  },
  {
   "metadata": {
    "id": "itkXhGyrICIB",
    "colab_type": "text"
   },
   "cell_type": "markdown",
   "source": [
    "## Data\n",
    "\n",
    "Remove sample data"
   ]
  },
  {
   "cell_type": "code",
   "execution_count": null,
   "outputs": [],
   "source": [
    "!rm -rf \"/content/sample_data\""
   ],
   "metadata": {
    "collapsed": false,
    "pycharm": {
     "name": "#%%\n"
    }
   }
  },
  {
   "cell_type": "markdown",
   "source": [
    "Import data"
   ],
   "metadata": {
    "collapsed": false,
    "pycharm": {
     "name": "#%% md\n"
    }
   }
  },
  {
   "metadata": {
    "id": "OyZY33RCIHAN",
    "colab_type": "code",
    "colab": {}
   },
   "cell_type": "code",
   "source": [
    "from google.colab import drive\n",
    "drive.mount(\"/content/drive\")"
   ],
   "execution_count": 0,
   "outputs": []
  },
  {
   "metadata": {
    "id": "-rI8BEku2Sr4",
    "colab_type": "text",
    "pycharm": {
     "name": "#%% md\n"
    }
   },
   "cell_type": "markdown",
   "source": [
    "# Learn"
   ]
  },
  {
   "metadata": {
    "id": "xzoW2fb4CRfu",
    "colab_type": "code",
    "colab": {},
    "pycharm": {
     "name": "#%%\n"
    }
   },
   "cell_type": "code",
   "source": [
    "from hw2.learning import train\n",
    "train(neural_network, epochs, train_dir, val_dir, out_dir, batch_size=batch_size, save_models=save_models)"
   ],
   "execution_count": 0,
   "outputs": []
  },
  {
   "metadata": {
    "id": "EoMS_MkENlSQ",
    "colab_type": "text",
    "pycharm": {
     "name": "#%% md\n"
    }
   },
   "cell_type": "markdown",
   "source": [
    "# Statistics\n",
    "\n",
    "Install LaTeX"
   ]
  },
  {
   "cell_type": "code",
   "execution_count": null,
   "outputs": [],
   "source": [
    "%pushd /\n",
    "!sudo apt-get install texlive-latex-recommended\n",
    "!sudo apt-get install dvipng texlive-fonts-recommended\n",
    "!wget http://mirrors.ctan.org/macros/latex/contrib/type1cm.zip\n",
    "!unzip type1cm.zip -d /tmp/type1cm\n",
    "!cd /tmp/type1cm/type1cm/ && sudo latex type1cm.ins\n",
    "!sudo mkdir /usr/share/texmf/tex/latex/type1cm\n",
    "!sudo cp /tmp/type1cm/type1cm/type1cm.sty /usr/share/texmf/tex/latex/type1cm\n",
    "!sudo texhash\n",
    "%popd"
   ],
   "metadata": {
    "collapsed": false,
    "pycharm": {
     "name": "#%%\n"
    }
   }
  },
  {
   "metadata": {
    "id": "255nAk0bYIRJ",
    "colab_type": "code",
    "colab": {},
    "pycharm": {
     "name": "#%%\n"
    }
   },
   "cell_type": "code",
   "source": [
    "!pip install seaborn --upgrade\n",
    "!pip install matplotlib --upgrade"
   ],
   "execution_count": 0,
   "outputs": []
  },
  {
   "metadata": {
    "id": "QKJmkNJH_-NI",
    "colab_type": "code",
    "colab": {},
    "pycharm": {
     "name": "#%%\n"
    }
   },
   "cell_type": "code",
   "source": [
    "from hw2.evaluation import plot_metrics\n",
    "plot_metrics(neural_network, out_dir / f\"{neural_network}.csv\")"
   ],
   "execution_count": 0,
   "outputs": []
  },
  {
   "cell_type": "markdown",
   "source": [
    "# Predictions"
   ],
   "metadata": {
    "collapsed": false,
    "pycharm": {
     "name": "#%% md\n"
    }
   }
  },
  {
   "cell_type": "code",
   "execution_count": null,
   "outputs": [],
   "source": [
    "from hw2.prediction import predict\n",
    "predict(neural_network, epochs, out_dir, blind_test_dir, batch_size=batch_size)"
   ],
   "metadata": {
    "collapsed": false,
    "pycharm": {
     "name": "#%%\n"
    }
   }
  }
 ]
}