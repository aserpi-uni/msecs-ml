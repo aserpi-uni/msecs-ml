{
 "nbformat": 4,
 "nbformat_minor": 0,
 "metadata": {
  "colab": {
   "name": "ml-hw2.ipynb",
   "version": "0.3.2",
   "provenance": [],
   "collapsed_sections": [],
   "toc_visible": true
  },
  "kernelspec": {
   "name": "python3",
   "language": "python",
   "display_name": "Python 3"
  },
  "accelerator": "GPU",
  "pycharm": {
   "stem_cell": {
    "cell_type": "raw",
    "source": [],
    "metadata": {
     "collapsed": false
    }
   }
  }
 },
 "cells": [
  {
   "metadata": {
    "id": "gcLhgPg-2Wjf",
    "colab_type": "text"
   },
   "cell_type": "markdown",
   "source": [
    "# Initialise"
   ]
  },
  {
   "metadata": {
    "id": "RpFqo7lUHzsK",
    "colab_type": "text"
   },
   "cell_type": "markdown",
   "source": [
    "## Input"
   ]
  },
  {
   "metadata": {
    "id": "YnSLaPAi-jVv",
    "colab_type": "code",
    "colab": {},
    "pycharm": {
     "is_executing": false
    }
   },
   "cell_type": "code",
   "source": [
    "#@title Neural network parameters\n",
    "neural_network = \"inception\"  #@param [\"inception\", \"resnet50\", \"vgg16\"]\n",
    "batch_size = 20  #@param {type:\"integer\"}\n",
    "epochs = 15  #@param {type:\"integer\"}\n"
   ],
   "execution_count": 5,
   "outputs": []
  },
  {
   "cell_type": "code",
   "execution_count": 3,
   "outputs": [],
   "source": [
    "#@title Model persistence settings\n",
    "save_model = \"last\"  #@param [\"all\", \"last\", \"none\"]\n",
    "save_best_model = True  #@param {type:\"boolean\"}\n",
    "\n",
    "persistence = []\n",
    "if save_best_model:\n",
    "    persistence.append(\"best\")\n",
    "if save_model == \"all\" or save_model == \"last\":\n",
    "    persistence.append(save_model)\n",
    "    "
   ],
   "metadata": {
    "collapsed": false,
    "pycharm": {
     "name": "#%%\n",
     "is_executing": false
    }
   }
  },
  {
   "cell_type": "code",
   "execution_count": 4,
   "outputs": [],
   "source": [
    "#@title Working directory\n",
    "working_directory = \"msecs-1-ml/hw2\"  #@param {type:\"string\"}\n",
    "\n",
    "from pathlib import Path\n",
    "working_directory = Path(working_directory)"
   ],
   "metadata": {
    "collapsed": false,
    "pycharm": {
     "name": "#%%\n",
     "is_executing": false
    }
   }
  },
  {
   "metadata": {
    "id": "3fpUMoY9H-j1",
    "colab_type": "text"
   },
   "cell_type": "markdown",
   "source": [
    "## Import code"
   ]
  },
  {
   "metadata": {
    "id": "x3qBc199Gk1q",
    "colab_type": "code",
    "colab": {}
   },
   "cell_type": "code",
   "source": [
    "# Download code\n",
    "!git clone https://github.com/aserpi/msecs-1-ml.git\n",
    "%cd msecs-1-ml\n",
    "! git checkout feature/update-hw2\n",
    "\n",
    "# Remove sample data\n",
    "!rm -rf \"/content/sample_data\""
   ],
   "execution_count": 0,
   "outputs": []
  },
  {
   "metadata": {
    "id": "itkXhGyrICIB",
    "colab_type": "text"
   },
   "cell_type": "markdown",
   "source": [
    "## Import data"
   ]
  },
  {
   "metadata": {
    "id": "OyZY33RCIHAN",
    "colab_type": "code",
    "colab": {},
    "pycharm": {
     "is_executing": false
    }
   },
   "cell_type": "code",
   "source": [
    "from google.colab import drive\n",
    "drive.mount(\"/content/drive\")\n",
    "\n",
    "working_directory = \"/content/drive/My Drive\" / working_directory"
   ],
   "execution_count": 18,
   "outputs": []
  },
  {
   "metadata": {
    "id": "okm8x1Md4qkc",
    "colab_type": "code",
    "colab": {},
    "pycharm": {
     "is_executing": false
    }
   },
   "cell_type": "code",
   "source": [
    "# Initialize dataset\n",
    "from hw2.data import initialise_dir\n",
    "initialise_dir(working_directory)"
   ],
   "execution_count": 25,
   "outputs": []
  },
  {
   "metadata": {
    "id": "-rI8BEku2Sr4",
    "colab_type": "text"
   },
   "cell_type": "markdown",
   "source": [
    "# Learn"
   ]
  },
  {
   "metadata": {
    "id": "xzoW2fb4CRfu",
    "colab_type": "code",
    "colab": {},
    "pycharm": {
     "is_executing": false
    }
   },
   "cell_type": "code",
   "source": [
    "from contextlib import suppress\n",
    "from IPython.core.error import UsageError\n",
    "\n",
    "# %tensorflow_version only exists in Colab.\n",
    "with suppress(UsageError):\n",
    "    %tensorflow_version 2.x\n",
    "\n",
    "%load_ext tensorboard\n",
    "%tensorboard --logdir \"tensorboard\"\n",
    "\n",
    "from hw2.data import ImageSize\n",
    "image_size = ImageSize(240,800)"
   ],
   "execution_count": 6,
   "outputs": []
  },
  {
   "cell_type": "code",
   "execution_count": 7,
   "outputs": [],
   "source": [
    "from hw2.learning import tune\n",
    "\n",
    "tune(image_size, working_directory, neural_network, epochs, batch_size=batch_size, persistence=persistence)"
   ],
   "metadata": {
    "collapsed": false,
    "pycharm": {
     "name": "#%%\n",
     "is_executing": false
    }
   }
  },
  {
   "metadata": {
    "id": "EoMS_MkENlSQ",
    "colab_type": "text"
   },
   "cell_type": "markdown",
   "source": [
    "# Statistics"
   ]
  },
  {
   "metadata": {
    "id": "255nAk0bYIRJ",
    "colab_type": "code",
    "colab": {}
   },
   "cell_type": "code",
   "source": [
    "!pip install seaborn --upgrade\n",
    "!pip install matplotlib --upgrade"
   ],
   "execution_count": 0,
   "outputs": []
  },
  {
   "metadata": {
    "id": "QKJmkNJH_-NI",
    "colab_type": "code",
    "colab": {}
   },
   "cell_type": "code",
   "source": [
    "from hw2.evaluation import plot_metrics\n",
    "\n",
    "plot_metrics(working_directory / \"keras\" / f\"{neural_network}.history\", neural_network)"
   ],
   "execution_count": 0,
   "outputs": []
  },
  {
   "metadata": {
    "id": "JWKaW3no_itL",
    "colab_type": "text"
   },
   "cell_type": "markdown",
   "source": [
    "# Unmount Google Drive"
   ]
  },
  {
   "metadata": {
    "id": "SzvBbxs7_hp4",
    "colab_type": "code",
    "colab": {}
   },
   "cell_type": "code",
   "source": [
    "!fusermount -u \"/content/drive\""
   ],
   "execution_count": 0,
   "outputs": []
  }
 ]
}